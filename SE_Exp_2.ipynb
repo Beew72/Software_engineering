{
  "nbformat": 4,
  "nbformat_minor": 0,
  "metadata": {
    "colab": {
      "provenance": [],
      "authorship_tag": "ABX9TyMbCkSHONlMOSXPoTgD7VHy",
      "include_colab_link": true
    },
    "kernelspec": {
      "name": "python3",
      "display_name": "Python 3"
    },
    "language_info": {
      "name": "python"
    }
  },
  "cells": [
    {
      "cell_type": "markdown",
      "metadata": {
        "id": "view-in-github",
        "colab_type": "text"
      },
      "source": [
        "<a href=\"https://colab.research.google.com/github/Beew72/Software_engineering/blob/main/SE_Exp_2.ipynb\" target=\"_parent\"><img src=\"https://colab.research.google.com/assets/colab-badge.svg\" alt=\"Open In Colab\"/></a>"
      ]
    },
    {
      "cell_type": "markdown",
      "source": [
        "1.\tImplement weather modeling* using the quadratic solution in stages: hard-coding variables keyboard input, read from a file, for a single set of input, multiple sets of inputs.\n",
        "\n",
        "Implementation outline for weather modeling using a quadratic solution. The approach evolves in stages:\n",
        "1.\tHardcoding variables.\n",
        "2.\tAccepting variables via keyboard input.\n",
        "3.\tReading variables from a file.\n",
        "4.\tProcessing a single set of inputs.\n",
        "5.\tProcessing multiple sets of inputs.\n",
        "At the end, you will save the versions, debug, fix issues, and push the project to GitHub.\n"
      ],
      "metadata": {
        "id": "gBPhyl9WKOgC"
      }
    },
    {
      "cell_type": "markdown",
      "source": [
        "1.\tHardcoding variables."
      ],
      "metadata": {
        "id": "hB4_AkaKKrF2"
      }
    },
    {
      "cell_type": "code",
      "source": [
        "def Temprature_modeling(a,b,c,time):\n",
        "  temprature=a*time**2+b*time+c\n",
        "  return temprature"
      ],
      "metadata": {
        "id": "NsqeHYyaK-Gi"
      },
      "execution_count": null,
      "outputs": []
    },
    {
      "cell_type": "code",
      "source": [
        "#Hardcoded variables\n",
        "a,b,c=0.1,2,10\n",
        "time=5"
      ],
      "metadata": {
        "id": "o_2CVfobLi4M"
      },
      "execution_count": null,
      "outputs": []
    },
    {
      "cell_type": "code",
      "source": [
        "#Display results\n",
        "print(\"Hard-coded variables for weather modeling\")\n",
        "print(\"Temprature for Hardcoded coefficients at time\",time,\"hours:\",Temprature_modeling(a,b,c,time))"
      ],
      "metadata": {
        "colab": {
          "base_uri": "https://localhost:8080/"
        },
        "id": "JBsyqBLtLwcb",
        "outputId": "1b77c88e-6bea-48c2-8abf-fc18d0b5a657"
      },
      "execution_count": null,
      "outputs": [
        {
          "output_type": "stream",
          "name": "stdout",
          "text": [
            "Hard-coded variables for weather modeling\n",
            "Temprature for Hardcoded coefficients at time 5 hours: 22.5\n"
          ]
        }
      ]
    },
    {
      "cell_type": "markdown",
      "source": [
        "2.\tAccepting variables via keyboard input\n"
      ],
      "metadata": {
        "id": "5CbO5y7kMwFt"
      }
    },
    {
      "cell_type": "code",
      "source": [
        "a=float(input(\"Enter coefficient a: \"))\n",
        "b=float(input(\"Enter coefficient b: \"))\n",
        "c=float(input(\"Enter coefficient c: \"))\n",
        "\n"
      ],
      "metadata": {
        "colab": {
          "base_uri": "https://localhost:8080/"
        },
        "id": "yTnYpZo4Myoi",
        "outputId": "a9eabed7-ba39-444b-84af-248a4ac732a4"
      },
      "execution_count": null,
      "outputs": [
        {
          "name": "stdout",
          "output_type": "stream",
          "text": [
            "Enter coefficient a: 0.1\n",
            "Enter coefficient b: 2\n",
            "Enter coefficient c: 10\n"
          ]
        }
      ]
    },
    {
      "cell_type": "code",
      "source": [
        "time=float(input(\"Enter time: \"))"
      ],
      "metadata": {
        "colab": {
          "base_uri": "https://localhost:8080/"
        },
        "id": "YSTg4yOANTeO",
        "outputId": "f457bbbd-86c9-4849-ec73-d2d0f6d77d1c"
      },
      "execution_count": null,
      "outputs": [
        {
          "name": "stdout",
          "output_type": "stream",
          "text": [
            "Enter time: 4\n"
          ]
        }
      ]
    },
    {
      "cell_type": "code",
      "source": [
        "#variables read from keyboard\n",
        "print(\"Hardecoded variables for weather modeling\")\n",
        "print(\"Temprature from keyboard coefficients at time\",time,\"hours:\",Temprature_modeling(a,b,c,time))"
      ],
      "metadata": {
        "colab": {
          "base_uri": "https://localhost:8080/"
        },
        "id": "LBb-LhwwNWlU",
        "outputId": "4fa0ba6b-b54a-461c-dbfa-ad8ccfa2e690"
      },
      "execution_count": null,
      "outputs": [
        {
          "output_type": "stream",
          "name": "stdout",
          "text": [
            "Hardecoded variables for weather modeling\n",
            "Temprature from keyboard coefficients at time 4.0 hours: 19.6\n"
          ]
        }
      ]
    },
    {
      "cell_type": "markdown",
      "source": [
        "Reading Variables from a File"
      ],
      "metadata": {
        "id": "ciCj9UcTPmmp"
      }
    },
    {
      "cell_type": "code",
      "source": [
        "# Read coefficients from a file\n",
        "def read_from_file(filename):\n",
        "    with open(filename, 'r') as file:\n",
        "        lines = file.readlines()\n",
        "        coefficients = [tuple(map(float, line.strip().split(','))) for line in lines]\n",
        "    return coefficients"
      ],
      "metadata": {
        "id": "oM4N4ZGXPrT5"
      },
      "execution_count": null,
      "outputs": []
    },
    {
      "cell_type": "markdown",
      "source": [
        "4.Processing a single set of inputs."
      ],
      "metadata": {
        "id": "xl1oex9EQT4j"
      }
    },
    {
      "cell_type": "code",
      "source": [
        "# Example: Solve for a single set of inputs\n",
        "coefficients = read_from_file('/content/input1.txt')\n",
        "a, b, c, time = coefficients[0]  # First set of coefficients\n",
        "temperature = Temperature_modeling(a, b, c, time)\n",
        "print(\"Read from a file for weather modeling\")\n",
        "print(\"Temperature from keyboard coefficients at time\", time, \"hours:\", Temperature_modeling(a, b, c, time))\n"
      ],
      "metadata": {
        "id": "9wyKgXwvQS6G"
      },
      "execution_count": null,
      "outputs": []
    },
    {
      "cell_type": "markdown",
      "source": [
        "5.Process multiple sets of input."
      ],
      "metadata": {
        "id": "VEc-sVq7Q2IA"
      }
    },
    {
      "cell_type": "code",
      "source": [
        "# Solve for all sets in the file\n",
        "for idx, (a, b, c, time) in enumerate(coefficients):\n",
        "    temperature = Temperature_modeling(a, b, c, time)\n",
        "    print(\"Temperature from keyboard coefficients at time\", time, \"hours:\", Temperature_modeling(a, b, c, time))\n"
      ],
      "metadata": {
        "id": "nDxY07hTRJcb"
      },
      "execution_count": null,
      "outputs": []
    }
  ]
}